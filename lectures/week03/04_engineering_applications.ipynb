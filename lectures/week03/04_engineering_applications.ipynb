{
 "cells": [
  {
   "cell_type": "code",
   "id": "initial_id",
   "metadata": {
    "collapsed": true,
    "ExecuteTime": {
     "end_time": "2025-03-13T09:44:28.456730Z",
     "start_time": "2025-03-13T09:44:28.454144Z"
    }
   },
   "source": "import numpy as np\n",
   "outputs": [],
   "execution_count": 1
  },
  {
   "metadata": {
    "ExecuteTime": {
     "end_time": "2025-03-13T09:44:30.130866Z",
     "start_time": "2025-03-13T09:44:30.124334Z"
    }
   },
   "cell_type": "code",
   "source": [
    "\n",
    "# Define resistance values (Ohms)\n",
    "R1, R2, R3, R4 = 17, 20, 30, 40\n",
    "\n",
    "# Define voltage source (Volts)\n",
    "V1 = 40\n",
    "\n",
    "# Construct the coefficient matrix (Resistance matrix)\n",
    "A = np.array([\n",
    "    [R1 + R2, -R2, 0],\n",
    "    [-R2, R2 + R3, -R3],\n",
    "    [0, -R3, R3 + R4]\n",
    "])\n",
    "\n",
    "# Construct the voltage matrix (Right-hand side)\n",
    "B = np.array([V1, 0, 0])\n",
    "\n",
    "# Solve for currents using matrix inversion\n",
    "I = np.linalg.solve(A, B)\n",
    "\n",
    "# Compute voltage drops across resistors using Ohm's Law (V = IR)\n",
    "V_drops = A @ I  # Matrix multiplication to get voltages\n",
    "\n",
    "# Compute power dissipated in each resistor using P = I^2 * R\n",
    "P_dissipated = I**2 * np.array([R1, R2, R3])\n",
    "\n",
    "# Print results\n",
    "print(\"Currents (A):\", I)\n",
    "print(\"Voltage Drops Across Resistors (V):\", V_drops)\n",
    "print(\"Power Dissipated in Each Resistor (W):\", P_dissipated)"
   ],
   "id": "66df7a425c3f9a49",
   "outputs": [
    {
     "name": "stdout",
     "output_type": "stream",
     "text": [
      "Currents (A): [1.52492669 0.82111437 0.35190616]\n",
      "Voltage Drops Across Resistors (V): [ 4.00000000e+01 -6.55031585e-15  1.66533454e-15]\n",
      "Power Dissipated in Each Resistor (W): [39.53182377 13.48457616  3.71513833]\n"
     ]
    }
   ],
   "execution_count": 2
  },
  {
   "metadata": {},
   "cell_type": "code",
   "outputs": [],
   "execution_count": null,
   "source": "",
   "id": "d1c503edb1cad37a"
  }
 ],
 "metadata": {
  "kernelspec": {
   "display_name": "Python 3",
   "language": "python",
   "name": "python3"
  },
  "language_info": {
   "codemirror_mode": {
    "name": "ipython",
    "version": 2
   },
   "file_extension": ".py",
   "mimetype": "text/x-python",
   "name": "python",
   "nbconvert_exporter": "python",
   "pygments_lexer": "ipython2",
   "version": "2.7.6"
  }
 },
 "nbformat": 4,
 "nbformat_minor": 5
}

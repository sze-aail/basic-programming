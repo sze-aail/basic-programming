{
 "cells": [
  {
   "cell_type": "code",
   "id": "initial_id",
   "metadata": {
    "collapsed": true,
    "ExecuteTime": {
     "end_time": "2025-02-20T10:06:28.986453Z",
     "start_time": "2025-02-20T10:06:28.971547Z"
    }
   },
   "source": "import numpy as np",
   "outputs": [],
   "execution_count": 1
  },
  {
   "metadata": {
    "ExecuteTime": {
     "end_time": "2025-02-20T10:06:53.894890Z",
     "start_time": "2025-02-20T10:06:53.881167Z"
    }
   },
   "cell_type": "code",
   "source": [
    "A = np.array([[1, -4, 9],\n",
    "              [3, 5, 11],\n",
    "              [4, 7, -5]])"
   ],
   "id": "d88d24059cc7f88",
   "outputs": [],
   "execution_count": 2
  },
  {
   "metadata": {
    "ExecuteTime": {
     "end_time": "2025-02-20T10:07:52.984068Z",
     "start_time": "2025-02-20T10:07:52.970932Z"
    }
   },
   "cell_type": "code",
   "source": [
    "B = np.array([[0, 0, -1],\n",
    "              [-1, 5, 0],\n",
    "              [9, -7, 0]])"
   ],
   "id": "8f7a9c62dd100241",
   "outputs": [],
   "execution_count": 3
  },
  {
   "metadata": {
    "ExecuteTime": {
     "end_time": "2025-02-20T10:08:02.966363Z",
     "start_time": "2025-02-20T10:08:02.952597Z"
    }
   },
   "cell_type": "code",
   "source": "A @ B",
   "id": "e03896869a832444",
   "outputs": [
    {
     "data": {
      "text/plain": [
       "array([[ 85, -83,  -1],\n",
       "       [ 94, -52,  -3],\n",
       "       [-52,  70,  -4]])"
      ]
     },
     "execution_count": 4,
     "metadata": {},
     "output_type": "execute_result"
    }
   ],
   "execution_count": 4
  },
  {
   "metadata": {
    "ExecuteTime": {
     "end_time": "2025-02-20T10:10:50.057234Z",
     "start_time": "2025-02-20T10:10:50.043907Z"
    }
   },
   "cell_type": "code",
   "source": [
    "B1 = np.array([[2, 0, 0],\n",
    "               [0, 5, 0],\n",
    "               [0, 0, 7]])"
   ],
   "id": "c5cecf266785028f",
   "outputs": [],
   "execution_count": 5
  },
  {
   "metadata": {
    "ExecuteTime": {
     "end_time": "2025-02-20T10:10:54.410124Z",
     "start_time": "2025-02-20T10:10:54.397086Z"
    }
   },
   "cell_type": "code",
   "source": "A @ B1",
   "id": "9d74aeb148d4a6c3",
   "outputs": [
    {
     "data": {
      "text/plain": [
       "array([[  2, -20,  63],\n",
       "       [  6,  25,  77],\n",
       "       [  8,  35, -35]])"
      ]
     },
     "execution_count": 6,
     "metadata": {},
     "output_type": "execute_result"
    }
   ],
   "execution_count": 6
  },
  {
   "metadata": {
    "ExecuteTime": {
     "end_time": "2025-02-20T10:13:05.916352Z",
     "start_time": "2025-02-20T10:13:05.903652Z"
    }
   },
   "cell_type": "code",
   "source": [
    "B2 = np.array([[2, -1, 5],\n",
    "               [0, 5, 2],\n",
    "               [0, 0, 7]])"
   ],
   "id": "ab8afb6c79f16ab7",
   "outputs": [],
   "execution_count": 7
  },
  {
   "metadata": {
    "ExecuteTime": {
     "end_time": "2025-02-20T10:13:09.874653Z",
     "start_time": "2025-02-20T10:13:09.861431Z"
    }
   },
   "cell_type": "code",
   "source": "A @ B2",
   "id": "3b0703c801ab2e7f",
   "outputs": [
    {
     "data": {
      "text/plain": [
       "array([[  2, -21,  60],\n",
       "       [  6,  22, 102],\n",
       "       [  8,  31,  -1]])"
      ]
     },
     "execution_count": 8,
     "metadata": {},
     "output_type": "execute_result"
    }
   ],
   "execution_count": 8
  },
  {
   "metadata": {},
   "cell_type": "markdown",
   "source": "## Order of matrix multiplication (commutativity)",
   "id": "a8182c6c63d8e992"
  },
  {
   "metadata": {
    "ExecuteTime": {
     "end_time": "2025-02-20T10:26:01.557456Z",
     "start_time": "2025-02-20T10:26:01.542463Z"
    }
   },
   "cell_type": "code",
   "source": [
    "A = np.array([[3, 6],\n",
    "              [7, 8]])\n",
    "B = np.array([[6, -7],\n",
    "              [1, 2]])"
   ],
   "id": "aa7db6224665f7bc",
   "outputs": [],
   "execution_count": 9
  },
  {
   "metadata": {
    "ExecuteTime": {
     "end_time": "2025-02-20T10:26:18.533540Z",
     "start_time": "2025-02-20T10:26:18.517465Z"
    }
   },
   "cell_type": "code",
   "source": "A @ B",
   "id": "2db394195934bfb",
   "outputs": [
    {
     "data": {
      "text/plain": [
       "array([[ 24,  -9],\n",
       "       [ 50, -33]])"
      ]
     },
     "execution_count": 10,
     "metadata": {},
     "output_type": "execute_result"
    }
   ],
   "execution_count": 10
  },
  {
   "metadata": {
    "ExecuteTime": {
     "end_time": "2025-02-20T10:26:32.491495Z",
     "start_time": "2025-02-20T10:26:32.477414Z"
    }
   },
   "cell_type": "code",
   "source": "B @ A",
   "id": "7a45225f2b8b0450",
   "outputs": [
    {
     "data": {
      "text/plain": [
       "array([[-31, -20],\n",
       "       [ 17,  22]])"
      ]
     },
     "execution_count": 11,
     "metadata": {},
     "output_type": "execute_result"
    }
   ],
   "execution_count": 11
  },
  {
   "metadata": {},
   "cell_type": "code",
   "outputs": [],
   "execution_count": null,
   "source": "",
   "id": "a4ea0bb35c27c8ea"
  }
 ],
 "metadata": {
  "kernelspec": {
   "display_name": "Python 3",
   "language": "python",
   "name": "python3"
  },
  "language_info": {
   "codemirror_mode": {
    "name": "ipython",
    "version": 2
   },
   "file_extension": ".py",
   "mimetype": "text/x-python",
   "name": "python",
   "nbconvert_exporter": "python",
   "pygments_lexer": "ipython2",
   "version": "2.7.6"
  }
 },
 "nbformat": 4,
 "nbformat_minor": 5
}

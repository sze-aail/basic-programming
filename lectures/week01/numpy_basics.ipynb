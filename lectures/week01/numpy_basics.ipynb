{
 "cells": [
  {
   "metadata": {},
   "cell_type": "markdown",
   "source": [
    "# Numpy Basics\n",
    "\n",
    "Show basic vector and matrix creation and manipulation using numpy."
   ],
   "id": "ea9f50772f7c31db"
  },
  {
   "cell_type": "code",
   "id": "initial_id",
   "metadata": {
    "collapsed": true,
    "ExecuteTime": {
     "end_time": "2025-02-19T18:40:31.124859Z",
     "start_time": "2025-02-19T18:40:25.368017Z"
    }
   },
   "source": "!pip install numpy",
   "outputs": [
    {
     "name": "stdout",
     "output_type": "stream",
     "text": [
      "Requirement already satisfied: numpy in d:\\dev\\envs\\hakiko\\lib\\site-packages (1.25.2)\n"
     ]
    }
   ],
   "execution_count": 1
  },
  {
   "metadata": {},
   "cell_type": "markdown",
   "source": "Import the numpy library",
   "id": "86ace2f4530257ee"
  },
  {
   "metadata": {
    "ExecuteTime": {
     "end_time": "2025-02-19T18:40:31.592283Z",
     "start_time": "2025-02-19T18:40:31.579922Z"
    }
   },
   "cell_type": "code",
   "source": "import numpy as np",
   "id": "207870165b65d0c9",
   "outputs": [],
   "execution_count": 3
  },
  {
   "metadata": {},
   "cell_type": "markdown",
   "source": [
    "## Creating numpy arrays\n",
    "\n",
    "Create a numpy array"
   ],
   "id": "cd3304e636b2fb1b"
  },
  {
   "metadata": {
    "ExecuteTime": {
     "end_time": "2025-02-19T18:42:03.855227Z",
     "start_time": "2025-02-19T18:42:03.844409Z"
    }
   },
   "cell_type": "code",
   "source": [
    "arr1 = np.array([1, 2, 3])\n",
    "arr2 = np.array([[1, 2, 3], [4, 5, 6]])\n",
    "print(\"arr1: \\n\", arr1)\n",
    "print(\"arr2: \\n\", arr2)"
   ],
   "id": "c7c381f83daaf37f",
   "outputs": [
    {
     "name": "stdout",
     "output_type": "stream",
     "text": [
      "arr1: \n",
      " [1 2 3]\n",
      "arr2: \n",
      " [[1 2 3]\n",
      " [4 5 6]]\n"
     ]
    }
   ],
   "execution_count": 8
  },
  {
   "metadata": {},
   "cell_type": "markdown",
   "source": "Create a numpy array with zeros (3x3)",
   "id": "b5825d2248342651"
  },
  {
   "metadata": {
    "ExecuteTime": {
     "end_time": "2025-02-19T18:42:01.859086Z",
     "start_time": "2025-02-19T18:42:01.847717Z"
    }
   },
   "cell_type": "code",
   "source": [
    "z0_33 = np.zeros((3,3))\n",
    "print(\"z0_33 (zeros of 3x3 dimensions): \\n\", z0_33)"
   ],
   "id": "226c702eef87d0b8",
   "outputs": [
    {
     "name": "stdout",
     "output_type": "stream",
     "text": [
      "z0_33 (zeros of 3x3 dimensions): \n",
      " [[0. 0. 0.]\n",
      " [0. 0. 0.]\n",
      " [0. 0. 0.]]\n"
     ]
    }
   ],
   "execution_count": 7
  },
  {
   "metadata": {},
   "cell_type": "markdown",
   "source": "Create a numpy array with ones (2x4)",
   "id": "3c1b7794fe9e14e0"
  },
  {
   "metadata": {
    "ExecuteTime": {
     "end_time": "2025-02-19T18:42:55.728519Z",
     "start_time": "2025-02-19T18:42:55.717365Z"
    }
   },
   "cell_type": "code",
   "source": [
    "m1_24 = np.ones((2,4))\n",
    "print(\"z1_24 (ones of 2x4 dimensions): \\n\", m1_24)"
   ],
   "id": "b68c52573d95a2cf",
   "outputs": [
    {
     "name": "stdout",
     "output_type": "stream",
     "text": [
      "z1_24 (ones of 2x4 dimensions): \n",
      " [[1. 1. 1. 1.]\n",
      " [1. 1. 1. 1.]]\n"
     ]
    }
   ],
   "execution_count": 10
  },
  {
   "metadata": {},
   "cell_type": "markdown",
   "source": "Create a numpy array with a range (from 0 to 10)",
   "id": "db586fa26858cc46"
  },
  {
   "metadata": {
    "ExecuteTime": {
     "end_time": "2025-02-19T18:43:17.131992Z",
     "start_time": "2025-02-19T18:43:17.119311Z"
    }
   },
   "cell_type": "code",
   "source": [
    "ar_0_10_2 = np.arange(0, 10, 2)\n",
    "print(\"ar_0_10_2 (range from 0 to 10 with step 2): \\n\", ar_0_10_2)"
   ],
   "id": "c1a83b8d263a3635",
   "outputs": [
    {
     "name": "stdout",
     "output_type": "stream",
     "text": [
      "ar_0_10_2 (range from 0 to 10 with step 2): \n",
      " [0 2 4 6 8]\n"
     ]
    }
   ],
   "execution_count": 11
  },
  {
   "metadata": {},
   "cell_type": "markdown",
   "source": "Create a numpy array with a linear space (from 0 to 1 with 5 elements)",
   "id": "726b7d77c7be61f9"
  },
  {
   "metadata": {
    "ExecuteTime": {
     "end_time": "2025-02-19T18:44:26.252969Z",
     "start_time": "2025-02-19T18:44:26.241370Z"
    }
   },
   "cell_type": "code",
   "source": [
    "linsp_0_1_5 = np.linspace(0, 1, 5)\n",
    "print(\"linsp_0_1_5 (linear space from 0 to 1 with 5 elements): \\n\", linsp_0_1_5)"
   ],
   "id": "798c46c0833edc71",
   "outputs": [
    {
     "name": "stdout",
     "output_type": "stream",
     "text": [
      "linsp_0_1_5 (linear space from 0 to 1 with 5 elements): \n",
      " [0.   0.25 0.5  0.75 1.  ]\n"
     ]
    }
   ],
   "execution_count": 13
  },
  {
   "metadata": {},
   "cell_type": "markdown",
   "source": [
    "## Reshaping numpy arrays\n",
    "\n",
    "convert a 1D array to a 2D array"
   ],
   "id": "ae6c4820f0d760e9"
  },
  {
   "metadata": {
    "ExecuteTime": {
     "end_time": "2025-02-19T18:46:01.848738Z",
     "start_time": "2025-02-19T18:46:01.838175Z"
    }
   },
   "cell_type": "code",
   "source": [
    "arr = np.array([1, 2, 3, 4, 5, 6]) # 1D array\n",
    "reshaped_arr = arr.reshape(2, 3)\n",
    "print(\"Reshaped array (1D to 2D): \\n\", reshaped_arr)"
   ],
   "id": "a3e41dc3069f8578",
   "outputs": [
    {
     "name": "stdout",
     "output_type": "stream",
     "text": [
      "Reshaped array (1D to 2D): \n",
      " [[1 2 3]\n",
      " [4 5 6]]\n"
     ]
    }
   ],
   "execution_count": 16
  },
  {
   "metadata": {},
   "cell_type": "markdown",
   "source": "Automatically calculate the size of one dimension when reshaping",
   "id": "a9813609ab0de846"
  },
  {
   "metadata": {
    "ExecuteTime": {
     "end_time": "2025-02-19T18:46:43.757426Z",
     "start_time": "2025-02-19T18:46:43.743951Z"
    }
   },
   "cell_type": "code",
   "source": [
    "arr = np.array([1, 2, 3, 4, 5, 6])\n",
    "reshaped_arr = arr.reshape(-1, 2) #\n",
    "print(\"Reshaped array (1D to 2D): \\n\", reshaped_arr)\n"
   ],
   "id": "caebe793c3f4857c",
   "outputs": [
    {
     "name": "stdout",
     "output_type": "stream",
     "text": [
      "Reshaped array (1D to 2D): \n",
      " [[1 2]\n",
      " [3 4]\n",
      " [5 6]]\n"
     ]
    }
   ],
   "execution_count": 17
  },
  {
   "metadata": {},
   "cell_type": "markdown",
   "source": "Broadcasting in numpy",
   "id": "37f69e452e643a59"
  },
  {
   "metadata": {
    "ExecuteTime": {
     "end_time": "2025-02-19T18:48:00.456137Z",
     "start_time": "2025-02-19T18:48:00.442342Z"
    }
   },
   "cell_type": "code",
   "source": [
    "A = np.array([[1, 2, 3], [4, 5, 6]])\n",
    "v = np.array([10, 20, 30])\n",
    "print(\"Result of broadcasting: \\n\", A + v)\n"
   ],
   "id": "3e22834d9f2890f7",
   "outputs": [
    {
     "name": "stdout",
     "output_type": "stream",
     "text": [
      "Result of broadcasting: \n",
      " [[11 22 33]\n",
      " [14 25 36]]\n"
     ]
    }
   ],
   "execution_count": 18
  },
  {
   "metadata": {},
   "cell_type": "markdown",
   "source": "Broadcasting in numpy with single value",
   "id": "b89e4efe97c066dc"
  },
  {
   "metadata": {
    "ExecuteTime": {
     "end_time": "2025-02-19T18:51:35.456350Z",
     "start_time": "2025-02-19T18:51:35.442289Z"
    }
   },
   "cell_type": "code",
   "source": [
    "A = np.array([[1, 2, 3], [4, 5, 6]])\n",
    "v = 100\n",
    "print(\"Result of broadcasting: \\n\", A + v)"
   ],
   "id": "f233704f23d6f2a0",
   "outputs": [
    {
     "name": "stdout",
     "output_type": "stream",
     "text": [
      "Result of broadcasting: \n",
      " [[101 102 103]\n",
      " [104 105 106]]\n"
     ]
    }
   ],
   "execution_count": 19
  },
  {
   "metadata": {},
   "cell_type": "markdown",
   "source": "## Matrix operations",
   "id": "afc92b1ed22a21a9"
  },
  {
   "metadata": {
    "ExecuteTime": {
     "end_time": "2025-02-19T18:51:58.131531Z",
     "start_time": "2025-02-19T18:51:58.117458Z"
    }
   },
   "cell_type": "code",
   "source": [
    "a = np.array([1, 2, 3])\n",
    "b = np.array([4, 5, 6])"
   ],
   "id": "293700cffaf9bdec",
   "outputs": [],
   "execution_count": 20
  },
  {
   "metadata": {},
   "cell_type": "markdown",
   "source": "Element-wise addition",
   "id": "40835762461ecb25"
  },
  {
   "metadata": {
    "ExecuteTime": {
     "end_time": "2025-02-19T18:52:11.232779Z",
     "start_time": "2025-02-19T18:52:11.219493Z"
    }
   },
   "cell_type": "code",
   "source": "print(\"Element-wise addition: \\n\", a + b)",
   "id": "d9d61b89c5f3b2b7",
   "outputs": [
    {
     "name": "stdout",
     "output_type": "stream",
     "text": [
      "Element-wise addition: \n",
      " [5 7 9]\n"
     ]
    }
   ],
   "execution_count": 21
  },
  {
   "metadata": {},
   "cell_type": "markdown",
   "source": "Element-wise subtraction",
   "id": "73095792a7d89e8e"
  },
  {
   "metadata": {
    "ExecuteTime": {
     "end_time": "2025-02-19T18:52:21.832273Z",
     "start_time": "2025-02-19T18:52:21.818092Z"
    }
   },
   "cell_type": "code",
   "source": "print(\"Element-wise subtraction: \\n\", a - b)",
   "id": "f583c230dd39e5fc",
   "outputs": [
    {
     "name": "stdout",
     "output_type": "stream",
     "text": [
      "Element-wise subtraction: \n",
      " [-3 -3 -3]\n"
     ]
    }
   ],
   "execution_count": 22
  },
  {
   "metadata": {},
   "cell_type": "markdown",
   "source": "Element-wise multiplication",
   "id": "ce7294d332742659"
  },
  {
   "metadata": {
    "ExecuteTime": {
     "end_time": "2025-02-19T18:52:31.419313Z",
     "start_time": "2025-02-19T18:52:31.411275Z"
    }
   },
   "cell_type": "code",
   "source": "print(\"Element-wise multiplication: \\n\", a * b)",
   "id": "dd2325562ca806cc",
   "outputs": [
    {
     "name": "stdout",
     "output_type": "stream",
     "text": [
      "Element-wise multiplication: \n",
      " [ 4 10 18]\n"
     ]
    }
   ],
   "execution_count": 23
  },
  {
   "metadata": {},
   "cell_type": "markdown",
   "source": "Element-wise division",
   "id": "f20e75d107c2bd13"
  },
  {
   "metadata": {
    "ExecuteTime": {
     "end_time": "2025-02-19T18:53:34.547663Z",
     "start_time": "2025-02-19T18:53:34.533537Z"
    }
   },
   "cell_type": "code",
   "source": "print(\"Element-wise division: \\n\", a / b)",
   "id": "aa27b56f255dc82b",
   "outputs": [
    {
     "name": "stdout",
     "output_type": "stream",
     "text": [
      "Element-wise division: \n",
      " [0.25 0.4  0.5 ]\n"
     ]
    }
   ],
   "execution_count": 24
  },
  {
   "metadata": {},
   "cell_type": "markdown",
   "source": "### Aggregation functions",
   "id": "9a5ae7f08ddc547e"
  },
  {
   "metadata": {
    "ExecuteTime": {
     "end_time": "2025-02-19T18:53:56.556136Z",
     "start_time": "2025-02-19T18:53:56.543086Z"
    }
   },
   "cell_type": "code",
   "source": "arr = np.array([[1, 2, 3], [4, 5, 6]])",
   "id": "c6dd5db58b590ff1",
   "outputs": [],
   "execution_count": 25
  },
  {
   "metadata": {},
   "cell_type": "markdown",
   "source": "Sum of all elements",
   "id": "f64992d8ba3ca426"
  },
  {
   "metadata": {
    "ExecuteTime": {
     "end_time": "2025-02-19T18:54:00.298116Z",
     "start_time": "2025-02-19T18:54:00.285156Z"
    }
   },
   "cell_type": "code",
   "source": "print(\"Sum of all elements: \", np.sum(arr))",
   "id": "3e5955eb4488be46",
   "outputs": [
    {
     "name": "stdout",
     "output_type": "stream",
     "text": [
      "Sum of all elements:  21\n"
     ]
    }
   ],
   "execution_count": 26
  },
  {
   "metadata": {},
   "cell_type": "markdown",
   "source": "Sum of all elements (axis=0, column-wise)",
   "id": "ab9ed67cc891ac68"
  },
  {
   "metadata": {
    "ExecuteTime": {
     "end_time": "2025-02-19T18:54:16.810416Z",
     "start_time": "2025-02-19T18:54:16.796665Z"
    }
   },
   "cell_type": "code",
   "source": "print(\"Sum of all elements (axis=0): \", np.sum(arr, axis=0))",
   "id": "6291873e3af8a1d4",
   "outputs": [
    {
     "name": "stdout",
     "output_type": "stream",
     "text": [
      "Sum of all elements (axis=0):  [5 7 9]\n"
     ]
    }
   ],
   "execution_count": 27
  },
  {
   "metadata": {},
   "cell_type": "markdown",
   "source": "Sum of all elements (axis=1, row-wise)",
   "id": "3445299cc7ebd0cb"
  },
  {
   "metadata": {
    "ExecuteTime": {
     "end_time": "2025-02-19T18:54:41.579031Z",
     "start_time": "2025-02-19T18:54:41.565635Z"
    }
   },
   "cell_type": "code",
   "source": "print(\"Sum of all elements (axis=0): \", np.sum(arr, axis=1))",
   "id": "150f2787ec1829d4",
   "outputs": [
    {
     "name": "stdout",
     "output_type": "stream",
     "text": [
      "Sum of all elements (axis=0):  [ 6 15]\n"
     ]
    }
   ],
   "execution_count": 28
  },
  {
   "metadata": {},
   "cell_type": "markdown",
   "source": "Mean of all elements",
   "id": "88bad0e9c517d39e"
  },
  {
   "metadata": {
    "ExecuteTime": {
     "end_time": "2025-02-19T18:55:25.520330Z",
     "start_time": "2025-02-19T18:55:25.507336Z"
    }
   },
   "cell_type": "code",
   "source": "print(\"Mean of all elements: \", np.mean(arr))",
   "id": "b45d1806d3bfbe49",
   "outputs": [
    {
     "name": "stdout",
     "output_type": "stream",
     "text": [
      "Mean of all elements:  3.5\n"
     ]
    }
   ],
   "execution_count": 29
  },
  {
   "metadata": {},
   "cell_type": "markdown",
   "source": "Mean of all elements (axis=0, column-wise)",
   "id": "6202763044776ce5"
  },
  {
   "metadata": {
    "ExecuteTime": {
     "end_time": "2025-02-19T18:55:38.254286Z",
     "start_time": "2025-02-19T18:55:38.240698Z"
    }
   },
   "cell_type": "code",
   "source": "print(\"Mean of all elements (axis=0): \", np.mean(arr, axis=0))",
   "id": "6f62a9cd853b948b",
   "outputs": [
    {
     "name": "stdout",
     "output_type": "stream",
     "text": [
      "Mean of all elements (axis=0):  [2.5 3.5 4.5]\n"
     ]
    }
   ],
   "execution_count": 30
  },
  {
   "metadata": {},
   "cell_type": "markdown",
   "source": "Standard deviation of all elements",
   "id": "d62287b6aee674e8"
  },
  {
   "metadata": {
    "ExecuteTime": {
     "end_time": "2025-02-19T18:55:56.677049Z",
     "start_time": "2025-02-19T18:55:56.662817Z"
    }
   },
   "cell_type": "code",
   "source": "print(\"Standard deviation of all elements: \", np.std(arr))",
   "id": "1bd29807c210c06e",
   "outputs": [
    {
     "name": "stdout",
     "output_type": "stream",
     "text": [
      "Standard deviation of all elements:  1.707825127659933\n"
     ]
    }
   ],
   "execution_count": 31
  },
  {
   "metadata": {},
   "cell_type": "markdown",
   "source": "Minimum value of all elements",
   "id": "4dc6b73e41809d12"
  },
  {
   "metadata": {
    "ExecuteTime": {
     "end_time": "2025-02-19T18:56:12.705280Z",
     "start_time": "2025-02-19T18:56:12.691647Z"
    }
   },
   "cell_type": "code",
   "source": "print(\"Minimum value of all elements: \", np.min(arr))",
   "id": "66917084f94908e3",
   "outputs": [
    {
     "name": "stdout",
     "output_type": "stream",
     "text": [
      "Minimum value of all elements:  1\n"
     ]
    }
   ],
   "execution_count": 32
  },
  {
   "metadata": {},
   "cell_type": "markdown",
   "source": "Maximum value of all elements",
   "id": "50200aeb99d65020"
  },
  {
   "metadata": {
    "ExecuteTime": {
     "end_time": "2025-02-19T18:56:23.523987Z",
     "start_time": "2025-02-19T18:56:23.510717Z"
    }
   },
   "cell_type": "code",
   "source": "print(\"Maximum value of all elements: \", np.max(arr))",
   "id": "24a1968758fb98c1",
   "outputs": [
    {
     "name": "stdout",
     "output_type": "stream",
     "text": [
      "Maximum value of all elements:  6\n"
     ]
    }
   ],
   "execution_count": 33
  },
  {
   "metadata": {},
   "cell_type": "markdown",
   "source": "Argmin of all elements",
   "id": "8e38c403ac2c27c1"
  },
  {
   "metadata": {
    "ExecuteTime": {
     "end_time": "2025-02-19T18:56:53.617817Z",
     "start_time": "2025-02-19T18:56:53.604769Z"
    }
   },
   "cell_type": "code",
   "source": "print(\"Argmin of all elements: \", np.argmin(arr))",
   "id": "ebbb2c4fbe9de346",
   "outputs": [
    {
     "name": "stdout",
     "output_type": "stream",
     "text": [
      "Argmin of all elements:  0\n"
     ]
    }
   ],
   "execution_count": 34
  },
  {
   "metadata": {},
   "cell_type": "markdown",
   "source": "Argmax of all elements",
   "id": "c444457c76740a40"
  },
  {
   "metadata": {
    "ExecuteTime": {
     "end_time": "2025-02-19T18:57:01.358516Z",
     "start_time": "2025-02-19T18:57:01.345870Z"
    }
   },
   "cell_type": "code",
   "source": "print(\"Argmax of all elements: \", np.argmax(arr))",
   "id": "d506e0ac7dffa437",
   "outputs": [
    {
     "name": "stdout",
     "output_type": "stream",
     "text": [
      "Argmax of all elements:  5\n"
     ]
    }
   ],
   "execution_count": 35
  },
  {
   "metadata": {},
   "cell_type": "markdown",
   "source": "## Random number generation",
   "id": "96ddacc43348e9a3"
  },
  {
   "metadata": {},
   "cell_type": "markdown",
   "source": "Generate a random number matrix (3x3) with values between 0 and 1",
   "id": "7c0390d3e7f40f67"
  },
  {
   "metadata": {
    "ExecuteTime": {
     "end_time": "2025-02-19T18:58:58.184935Z",
     "start_time": "2025-02-19T18:58:58.164374Z"
    }
   },
   "cell_type": "code",
   "source": [
    "random_arr = np.random.rand(3,3)\n",
    "print(\"Random array: \\n\", random_arr)"
   ],
   "id": "6511f880352434b9",
   "outputs": [
    {
     "name": "stdout",
     "output_type": "stream",
     "text": [
      "Random array: \n",
      " [[0.73421801 0.23123865 0.58650828]\n",
      " [0.89359812 0.80231019 0.1273835 ]\n",
      " [0.82417149 0.10798253 0.91264198]]\n"
     ]
    }
   ],
   "execution_count": 36
  },
  {
   "metadata": {},
   "cell_type": "markdown",
   "source": "Generate a random number matrix (3x3) with values from a normal distribution",
   "id": "8af05a5d8fbf2798"
  },
  {
   "metadata": {
    "ExecuteTime": {
     "end_time": "2025-02-19T18:59:17.097791Z",
     "start_time": "2025-02-19T18:59:17.080977Z"
    }
   },
   "cell_type": "code",
   "source": [
    "random_arr_normal = np.random.randn(3,3)\n",
    "print(\"Random array (normal distribution): \\n\", random_arr_normal)"
   ],
   "id": "8f7e07f9b0aa42c7",
   "outputs": [
    {
     "name": "stdout",
     "output_type": "stream",
     "text": [
      "Random array (normal distribution): \n",
      " [[-0.45862817 -0.78452042  0.80870515]\n",
      " [-0.94917942 -1.64548306  1.06274424]\n",
      " [ 0.30007756 -2.16056375 -0.2232162 ]]\n"
     ]
    }
   ],
   "execution_count": 38
  },
  {
   "metadata": {},
   "cell_type": "markdown",
   "source": "Generate a random number matrix (3x3) with values between 0 and 10",
   "id": "a2daa7879357862d"
  },
  {
   "metadata": {
    "ExecuteTime": {
     "end_time": "2025-02-19T18:59:36.951846Z",
     "start_time": "2025-02-19T18:59:36.932805Z"
    }
   },
   "cell_type": "code",
   "source": [
    "random_arr_range = np.random.randint(0,10,(3,3))\n",
    "print(\"Random array (range 0-10): \\n\", random_arr_range)"
   ],
   "id": "eac813b304ad30d6",
   "outputs": [
    {
     "name": "stdout",
     "output_type": "stream",
     "text": [
      "Random array (range 0-10): \n",
      " [[0 9 9]\n",
      " [1 4 1]\n",
      " [8 9 1]]\n"
     ]
    }
   ],
   "execution_count": 39
  },
  {
   "metadata": {},
   "cell_type": "markdown",
   "source": "## Performace comparison",
   "id": "9be0c8f79efdddaf"
  },
  {
   "metadata": {},
   "cell_type": "markdown",
   "source": "Compare the performance of numpy array and python list",
   "id": "142fba990b235a92"
  },
  {
   "metadata": {
    "ExecuteTime": {
     "end_time": "2025-02-19T19:03:50.273495Z",
     "start_time": "2025-02-19T19:03:50.260850Z"
    }
   },
   "cell_type": "code",
   "source": "import time",
   "id": "2ec334e6efd939d",
   "outputs": [],
   "execution_count": 42
  },
  {
   "metadata": {
    "ExecuteTime": {
     "end_time": "2025-02-19T19:03:55.365283Z",
     "start_time": "2025-02-19T19:03:55.351543Z"
    }
   },
   "cell_type": "code",
   "source": [
    "size = 1_000_000\n",
    "arr = np.arange(size)\n"
   ],
   "id": "fe1d264c07aa8e0a",
   "outputs": [],
   "execution_count": 43
  },
  {
   "metadata": {},
   "cell_type": "markdown",
   "source": "Using a loop to calculate the sum of all elements",
   "id": "7403888a666ece01"
  },
  {
   "metadata": {
    "ExecuteTime": {
     "end_time": "2025-02-19T19:04:19.292372Z",
     "start_time": "2025-02-19T19:04:18.970756Z"
    }
   },
   "cell_type": "code",
   "source": [
    "start_time = time.time()\n",
    "squared_loop = np.zeros(size)\n",
    "for i in range(size):\n",
    "    squared_loop[i] = arr[i] ** 2\n",
    "loop_time = time.time() - start_time\n"
   ],
   "id": "21af407248e3eba3",
   "outputs": [],
   "execution_count": 45
  },
  {
   "metadata": {},
   "cell_type": "markdown",
   "source": "Using numpy to calculate the sum of all elements",
   "id": "941468734170a28d"
  },
  {
   "metadata": {
    "ExecuteTime": {
     "end_time": "2025-02-19T19:04:37.867974Z",
     "start_time": "2025-02-19T19:04:37.854807Z"
    }
   },
   "cell_type": "code",
   "source": [
    "start_time = time.time()\n",
    "squared_vectorized = arr ** 2 # Vectorized operation\n",
    "vectorized_time = time.time() - start_time"
   ],
   "id": "358189cfa1043b31",
   "outputs": [],
   "execution_count": 46
  },
  {
   "metadata": {
    "ExecuteTime": {
     "end_time": "2025-02-19T19:04:44.680886Z",
     "start_time": "2025-02-19T19:04:44.667174Z"
    }
   },
   "cell_type": "code",
   "source": [
    "print(\"Loop time: \", loop_time)\n",
    "print(\"Vectorized time: \", vectorized_time)"
   ],
   "id": "948448d7a0c0aab6",
   "outputs": [
    {
     "name": "stdout",
     "output_type": "stream",
     "text": [
      "Loop time:  0.30229973793029785\n",
      "Vectorized time:  0.0015120506286621094\n"
     ]
    }
   ],
   "execution_count": 47
  },
  {
   "metadata": {},
   "cell_type": "markdown",
   "source": [
    "## Examples\n",
    "\n",
    "### Polynomial fitting\n",
    "Polynomial fitting using numpy on a set of points"
   ],
   "id": "c7e0b3b8262bb597"
  },
  {
   "metadata": {
    "ExecuteTime": {
     "end_time": "2025-02-19T19:05:52.228281Z",
     "start_time": "2025-02-19T19:05:51.246765Z"
    }
   },
   "cell_type": "code",
   "source": [
    "import numpy as np\n",
    "import matplotlib.pyplot as plt\n",
    "# Generate noisy data\n",
    "x = np.linspace(0, 10, 50)\n",
    "y = 3 * x**2 + 2 * x + 5 + np.random.randn(50) * 5\n"
   ],
   "id": "27e8cf1e9c2a0ac8",
   "outputs": [],
   "execution_count": 48
  },
  {
   "metadata": {
    "ExecuteTime": {
     "end_time": "2025-02-19T19:06:19.399260Z",
     "start_time": "2025-02-19T19:06:19.265020Z"
    }
   },
   "cell_type": "code",
   "source": [
    "plt.scatter(x, y) # Plot the noisy data\n",
    "# Plot the polynomial fit\n",
    "p = np.poly1d(np.polyfit(x, y, 2))\n",
    "plt.plot(x, p(x), color='red')\n",
    "plt.show()"
   ],
   "id": "733918e69ae637e",
   "outputs": [
    {
     "data": {
      "text/plain": [
       "<Figure size 640x480 with 1 Axes>"
      ],
      "image/png": "[encoded data removed]"
     },
     "metadata": {},
     "output_type": "display_data"
    }
   ],
   "execution_count": 51
  },
  {
   "metadata": {},
   "cell_type": "markdown",
   "source": [
    "### Monte Carlo simulation\n",
    "Monte Carlo simulation using numpy"
   ],
   "id": "b3e7246667b2067"
  },
  {
   "metadata": {
    "ExecuteTime": {
     "end_time": "2025-02-19T19:09:10.904101Z",
     "start_time": "2025-02-19T19:09:09.703187Z"
    }
   },
   "cell_type": "code",
   "source": [
    "points = 1_000_000\n",
    "x = np.random.rand(points)\n",
    "y = np.random.rand(points)\n",
    "plt.figure(figsize=(6,6))\n",
    "plt.scatter(x, y, s=1)"
   ],
   "id": "1a7740b994687e34",
   "outputs": [
    {
     "data": {
      "text/plain": [
       "<matplotlib.collections.PathCollection at 0x252e7389cc0>"
      ]
     },
     "execution_count": 52,
     "metadata": {},
     "output_type": "execute_result"
    },
    {
     "data": {
      "text/plain": [
       "<Figure size 600x600 with 1 Axes>"
      ],
      "image/png": "[encoded data removed]"
     },
     "metadata": {},
     "output_type": "display_data"
    }
   ],
   "execution_count": 52
  },
  {
   "metadata": {
    "ExecuteTime": {
     "end_time": "2025-02-19T19:09:28.618547Z",
     "start_time": "2025-02-19T19:09:27.951783Z"
    }
   },
   "cell_type": "code",
   "source": [
    "inside = x**2 + y**2 < 1\n",
    "outside = np.invert(inside)\n",
    "plt.figure(figsize=(6,6))\n",
    "plt.scatter(x[inside], y[inside], color='blue', s=1)\n",
    "plt.scatter(x[outside], y[outside], color='red', s=1)\n",
    "plt.show()"
   ],
   "id": "b07b19c3468ff5a2",
   "outputs": [
    {
     "data": {
      "text/plain": [
       "<Figure size 600x600 with 1 Axes>"
      ],
      "image/png": "[encoded data removed]"
     },
     "metadata": {},
     "output_type": "display_data"
    }
   ],
   "execution_count": 53
  },
  {
   "metadata": {
    "ExecuteTime": {
     "end_time": "2025-02-19T19:09:45.485810Z",
     "start_time": "2025-02-19T19:09:45.471252Z"
    }
   },
   "cell_type": "code",
   "source": "pi = 4 * np.sum(inside) / points",
   "id": "1f250b22ed9d410e",
   "outputs": [],
   "execution_count": 54
  },
  {
   "metadata": {
    "ExecuteTime": {
     "end_time": "2025-02-19T19:09:47.292687Z",
     "start_time": "2025-02-19T19:09:47.278258Z"
    }
   },
   "cell_type": "code",
   "source": "print(\"Estimated value of pi: \", pi)",
   "id": "4a6d4e4e20686524",
   "outputs": [
    {
     "name": "stdout",
     "output_type": "stream",
     "text": [
      "Estimated value of pi:  3.142\n"
     ]
    }
   ],
   "execution_count": 55
  },
  {
   "metadata": {},
   "cell_type": "code",
   "outputs": [],
   "execution_count": null,
   "source": "",
   "id": "5edb9d5df67d5861"
  }
 ],
 "metadata": {
  "kernelspec": {
   "display_name": "Python 3",
   "language": "python",
   "name": "python3"
  },
  "language_info": {
   "codemirror_mode": {
    "name": "ipython",
    "version": 2
   },
   "file_extension": ".py",
   "mimetype": "text/x-python",
   "name": "python",
   "nbconvert_exporter": "python",
   "pygments_lexer": "ipython2",
   "version": "2.7.6"
  }
 },
 "nbformat": 4,
 "nbformat_minor": 5
}

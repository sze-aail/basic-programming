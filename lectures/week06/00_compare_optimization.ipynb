{
 "cells": [
  {
   "cell_type": "code",
   "id": "initial_id",
   "metadata": {
    "collapsed": true,
    "ExecuteTime": {
     "end_time": "2025-04-02T21:44:00.891852Z",
     "start_time": "2025-04-02T21:44:00.882605Z"
    }
   },
   "source": [
    "import numpy as np\n",
    "\n",
    "def f(x):\n",
    "    \"\"\"Objective: x is a 2D numpy array\"\"\"\n",
    "    return 0.5 * (x[0]**2 + 50*x[1]**2)  # intentionally ill-conditioned\n",
    "\n",
    "def grad_f(x):\n",
    "    \"\"\"Gradient of the above function\"\"\"\n",
    "    return np.array([x[0], 50*x[1]])\n",
    "\n",
    "#--- Choose a method to implement, e.g., Nesterov\n",
    "\n",
    "def nesterov_gradient_descent(grad, x0, lr=0.1, gamma=0.9, max_iter=1000, tol=1e-6):\n",
    "    x = x0.copy()\n",
    "    v = np.zeros_like(x)\n",
    "    for i in range(max_iter):\n",
    "        # \"Look ahead\" step\n",
    "        x_ahead = x - gamma*v\n",
    "        g = grad(x_ahead)\n",
    "        v_new = gamma*v + lr*g\n",
    "        x_new = x - v_new\n",
    "\n",
    "        if np.linalg.norm(x_new - x) < tol:\n",
    "            print(f\"Converged at iteration {i}\")\n",
    "            return x_new\n",
    "        x, v = x_new, v_new\n",
    "    return x\n",
    "\n",
    "# Example usage:\n",
    "x_init = np.array([2.0, 2.0])  # initial guess\n",
    "x_opt = nesterov_gradient_descent(grad_f, x_init, lr=0.01, gamma=0.9)\n",
    "print(\"Nesterov solution:\", x_opt)\n",
    "print(\"Function value at solution:\", f(x_opt))"
   ],
   "outputs": [
    {
     "name": "stdout",
     "output_type": "stream",
     "text": [
      "Converged at iteration 182\n",
      "Nesterov solution: [-4.81463105e-05  1.71301650e-32]\n",
      "Function value at solution: 1.159033605831504e-09\n"
     ]
    }
   ],
   "execution_count": 1
  },
  {
   "metadata": {},
   "cell_type": "code",
   "outputs": [],
   "execution_count": null,
   "source": "",
   "id": "4439699500fa8954"
  }
 ],
 "metadata": {
  "kernelspec": {
   "display_name": "Python 3",
   "language": "python",
   "name": "python3"
  },
  "language_info": {
   "codemirror_mode": {
    "name": "ipython",
    "version": 2
   },
   "file_extension": ".py",
   "mimetype": "text/x-python",
   "name": "python",
   "nbconvert_exporter": "python",
   "pygments_lexer": "ipython2",
   "version": "2.7.6"
  }
 },
 "nbformat": 4,
 "nbformat_minor": 5
}

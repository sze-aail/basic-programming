{
 "cells": [
  {
   "metadata": {},
   "cell_type": "markdown",
   "source": [
    "## First-class functions\n",
    "The concept of first-class functions in Python allows functions to be treated as first-class objects. This means that functions can be passed as arguments to other functions, returned from other functions, and assigned to variables. This is a fundamental concept in functional programming, which is a programming paradigm that treats computation as the evaluation of mathematical functions and avoids changing-state and mutable data."
   ],
   "id": "3e5e39da08780cd3"
  },
  {
   "cell_type": "code",
   "id": "initial_id",
   "metadata": {
    "collapsed": true,
    "ExecuteTime": {
     "end_time": "2025-03-12T19:29:52.490235Z",
     "start_time": "2025-03-12T19:29:52.486802Z"
    }
   },
   "source": [
    "# Assign function to a variable\n",
    "def greet(name):\n",
    "    return f\"Hello, {name}!\"\n"
   ],
   "outputs": [],
   "execution_count": 1
  },
  {
   "metadata": {},
   "cell_type": "markdown",
   "source": "Assign function to a variable",
   "id": "be0ee43c13008f09"
  },
  {
   "metadata": {
    "ExecuteTime": {
     "end_time": "2025-03-12T19:29:52.503275Z",
     "start_time": "2025-03-12T19:29:52.498818Z"
    }
   },
   "cell_type": "code",
   "source": [
    "say_hello = greet  # Assign function to a variable\n",
    "print(say_hello(\"Alice\"))"
   ],
   "id": "4b856bedcb145579",
   "outputs": [
    {
     "name": "stdout",
     "output_type": "stream",
     "text": [
      "Hello, Alice!\n"
     ]
    }
   ],
   "execution_count": 2
  },
  {
   "metadata": {},
   "cell_type": "markdown",
   "source": [
    "### Higher-order functions\n",
    "Higher-order functions are functions that take other functions as arguments or return functions as results. They enable a functional programming style and are a key feature of many programming languages, including Python."
   ],
   "id": "27d73917cd5e48b4"
  },
  {
   "metadata": {
    "ExecuteTime": {
     "end_time": "2025-03-12T19:33:52.388254Z",
     "start_time": "2025-03-12T19:33:52.384390Z"
    }
   },
   "cell_type": "code",
   "source": [
    "# Higher-order function: Takes a function as an argument\n",
    "def apply_func(func, value):\n",
    "    return func(value)\n"
   ],
   "id": "11cb9b97885437a2",
   "outputs": [],
   "execution_count": 3
  },
  {
   "metadata": {
    "ExecuteTime": {
     "end_time": "2025-03-12T19:33:57.083812Z",
     "start_time": "2025-03-12T19:33:57.079417Z"
    }
   },
   "cell_type": "code",
   "source": [
    "# Define a simple function\n",
    "def square(x):\n",
    "    return x ** 2"
   ],
   "id": "cf38ea63c117c436",
   "outputs": [],
   "execution_count": 4
  },
  {
   "metadata": {
    "ExecuteTime": {
     "end_time": "2025-03-12T19:34:03.210456Z",
     "start_time": "2025-03-12T19:34:03.205859Z"
    }
   },
   "cell_type": "code",
   "source": [
    "# Apply the function using the higher-order function\n",
    "result = apply_func(square, 5)\n",
    "print(result)"
   ],
   "id": "81f9f0834c94425",
   "outputs": [
    {
     "name": "stdout",
     "output_type": "stream",
     "text": [
      "25\n"
     ]
    }
   ],
   "execution_count": 5
  },
  {
   "metadata": {},
   "cell_type": "markdown",
   "source": "Example of returning a function from another function",
   "id": "34c533197e4bbfcf"
  },
  {
   "metadata": {
    "ExecuteTime": {
     "end_time": "2025-03-12T19:43:07.945655Z",
     "start_time": "2025-03-12T19:43:07.942851Z"
    }
   },
   "cell_type": "code",
   "source": [
    "def multiplier(factor):\n",
    "    def multiply(x):\n",
    "        return x * factor\n",
    "    return multiply"
   ],
   "id": "c06acf189bd733d1",
   "outputs": [],
   "execution_count": 6
  },
  {
   "metadata": {
    "ExecuteTime": {
     "end_time": "2025-03-12T19:43:12.911626Z",
     "start_time": "2025-03-12T19:43:12.907894Z"
    }
   },
   "cell_type": "code",
   "source": [
    "double = multiplier(2)  # Creates a function that multiplies by 2\n",
    "print(double(4))"
   ],
   "id": "d3d5d453979ca533",
   "outputs": [
    {
     "name": "stdout",
     "output_type": "stream",
     "text": [
      "8\n"
     ]
    }
   ],
   "execution_count": 7
  },
  {
   "metadata": {},
   "cell_type": "markdown",
   "source": [
    "### Lambda functions\n",
    "Lambda functions, also known as anonymous functions, are a way of defining small, unnamed functions in Python. They are defined using the `lambda` keyword and are often used as arguments to higher-order functions."
   ],
   "id": "206b2447afe2a9ab"
  },
  {
   "metadata": {
    "ExecuteTime": {
     "end_time": "2025-03-12T20:05:48.617527Z",
     "start_time": "2025-03-12T20:05:48.613757Z"
    }
   },
   "cell_type": "code",
   "source": [
    "add = lambda x, y: x + y\n",
    "print(add(3, 5))  # Output: 8"
   ],
   "id": "dace6cba8dcdc2bd",
   "outputs": [
    {
     "name": "stdout",
     "output_type": "stream",
     "text": [
      "8\n"
     ]
    }
   ],
   "execution_count": 8
  },
  {
   "metadata": {},
   "cell_type": "markdown",
   "source": "Example of using lambda functions with higher-order functions, such as conditionals",
   "id": "9cc30f2076ff7be8"
  },
  {
   "metadata": {
    "ExecuteTime": {
     "end_time": "2025-03-12T20:07:55.322739Z",
     "start_time": "2025-03-12T20:07:55.319384Z"
    }
   },
   "cell_type": "code",
   "source": [
    "max_value = lambda x, y: x if x > y else y\n",
    "print(max_value(10, 20))  # Output: 20"
   ],
   "id": "fac693c717103529",
   "outputs": [
    {
     "name": "stdout",
     "output_type": "stream",
     "text": [
      "20\n"
     ]
    }
   ],
   "execution_count": 9
  },
  {
   "metadata": {},
   "cell_type": "markdown",
   "source": "Sorting a list of tuples based on the second element using lambda functions",
   "id": "f6a9732ea06374e0"
  },
  {
   "metadata": {
    "ExecuteTime": {
     "end_time": "2025-03-12T20:09:10.710301Z",
     "start_time": "2025-03-12T20:09:10.706634Z"
    }
   },
   "cell_type": "code",
   "source": [
    "words = [\"apple\", \"banana\", \"cherry\"]\n",
    "words.sort(key=lambda x: len(x))  # Sort by word length\n",
    "print(words)  # Output: ['apple', 'cherry', 'banana']"
   ],
   "id": "274b7edd6747f569",
   "outputs": [
    {
     "name": "stdout",
     "output_type": "stream",
     "text": [
      "['apple', 'banana', 'cherry']\n"
     ]
    }
   ],
   "execution_count": 10
  },
  {
   "metadata": {},
   "cell_type": "markdown",
   "source": [
    "### Map, Filter, and Reduce\n",
    "Map, filter, and reduce are common functional programming operations that can be used with lambda functions to process data more efficiently."
   ],
   "id": "9501567addff8799"
  },
  {
   "metadata": {
    "ExecuteTime": {
     "end_time": "2025-03-12T20:21:53.160361Z",
     "start_time": "2025-03-12T20:21:53.156641Z"
    }
   },
   "cell_type": "code",
   "source": [
    "def square(x):\n",
    "    return x ** 2\n",
    "\n",
    "nums = [1, 2, 3, 4]\n",
    "squared = list(map(square, nums))\n",
    "print(squared)  # Output: [1, 4, 9, 16]"
   ],
   "id": "8049cc80ef9be609",
   "outputs": [
    {
     "name": "stdout",
     "output_type": "stream",
     "text": [
      "[1, 4, 9, 16]\n"
     ]
    }
   ],
   "execution_count": 11
  },
  {
   "metadata": {
    "ExecuteTime": {
     "end_time": "2025-03-12T20:22:05.786245Z",
     "start_time": "2025-03-12T20:22:05.783100Z"
    }
   },
   "cell_type": "code",
   "source": [
    "# Using lambda functions with map\n",
    "nums = [1, 2, 3, 4]\n",
    "squared = list(map(lambda x: x ** 2, nums))\n",
    "print(squared)  # Output: [1, 4, 9, 16]"
   ],
   "id": "b9a84343738d5321",
   "outputs": [
    {
     "name": "stdout",
     "output_type": "stream",
     "text": [
      "[1, 4, 9, 16]\n"
     ]
    }
   ],
   "execution_count": 12
  },
  {
   "metadata": {},
   "cell_type": "markdown",
   "source": "Filter example using lambda functions",
   "id": "b18198be1ed89959"
  },
  {
   "metadata": {
    "ExecuteTime": {
     "end_time": "2025-03-12T20:24:12.616049Z",
     "start_time": "2025-03-12T20:24:12.612246Z"
    }
   },
   "cell_type": "code",
   "source": [
    "def is_even(x):\n",
    "    return x % 2 == 0\n",
    "\n",
    "nums = [1, 2, 3, 4, 5, 6]\n",
    "evens = list(filter(is_even, nums))\n",
    "print(evens)  # Output: [2, 4, 6]\n"
   ],
   "id": "f0f2ac0065d67bca",
   "outputs": [
    {
     "name": "stdout",
     "output_type": "stream",
     "text": [
      "[2, 4, 6]\n"
     ]
    }
   ],
   "execution_count": 14
  },
  {
   "metadata": {
    "ExecuteTime": {
     "end_time": "2025-03-12T20:24:17.765929Z",
     "start_time": "2025-03-12T20:24:17.762129Z"
    }
   },
   "cell_type": "code",
   "source": [
    "# With lambda functions\n",
    "nums = [1, 2, 3, 4, 5, 6]\n",
    "evens = list(filter(lambda x: x % 2 == 0, nums))\n",
    "print(evens)  # Output: [2, 4, 6]"
   ],
   "id": "75ced5c81027265",
   "outputs": [
    {
     "name": "stdout",
     "output_type": "stream",
     "text": [
      "[2, 4, 6]\n"
     ]
    }
   ],
   "execution_count": 16
  },
  {
   "metadata": {},
   "cell_type": "markdown",
   "source": "Reduce example using lambda functions",
   "id": "f64f26559ee067f6"
  },
  {
   "metadata": {
    "ExecuteTime": {
     "end_time": "2025-03-12T20:25:33.433629Z",
     "start_time": "2025-03-12T20:25:33.430049Z"
    }
   },
   "cell_type": "code",
   "source": [
    "from functools import reduce\n",
    "\n",
    "def multiply(x, y):\n",
    "    return x * y\n",
    "\n",
    "nums = [1, 2, 3, 4]\n",
    "product = reduce(multiply, nums)\n",
    "print(product)  # Output: 24\n"
   ],
   "id": "af0b416808e67554",
   "outputs": [
    {
     "name": "stdout",
     "output_type": "stream",
     "text": [
      "24\n"
     ]
    }
   ],
   "execution_count": 17
  },
  {
   "metadata": {
    "ExecuteTime": {
     "end_time": "2025-03-12T20:25:42.748157Z",
     "start_time": "2025-03-12T20:25:42.744777Z"
    }
   },
   "cell_type": "code",
   "source": [
    "# With lambda functions\n",
    "nums = [1, 2, 3, 4]\n",
    "product = reduce(lambda x, y: x * y, nums)\n",
    "print(product)  # Output: 24"
   ],
   "id": "fbd48080cf8d38fc",
   "outputs": [
    {
     "name": "stdout",
     "output_type": "stream",
     "text": [
      "24\n"
     ]
    }
   ],
   "execution_count": 18
  },
  {
   "metadata": {},
   "cell_type": "markdown",
   "source": [
    "# Functools module\n",
    "The `functools` module in Python provides higher-order functions that can be used for various purposes, such as caching, partial function application, and more."
   ],
   "id": "c09122815c6cffe0"
  },
  {
   "metadata": {
    "ExecuteTime": {
     "end_time": "2025-03-12T20:40:09.055178Z",
     "start_time": "2025-03-12T20:40:09.050784Z"
    }
   },
   "cell_type": "code",
   "source": [
    "from functools import reduce\n",
    "nums = [1, 2, 3, 4]\n",
    "product = reduce(lambda x, y: x * y, nums)\n",
    "print(product)  # Output: 24"
   ],
   "id": "46cd3e07a652cef4",
   "outputs": [
    {
     "name": "stdout",
     "output_type": "stream",
     "text": [
      "24\n"
     ]
    }
   ],
   "execution_count": 19
  },
  {
   "metadata": {},
   "cell_type": "markdown",
   "source": "LRU-cache example using functools",
   "id": "2b1eeb2ce0ad6597"
  },
  {
   "metadata": {
    "ExecuteTime": {
     "end_time": "2025-03-12T20:41:15.677564Z",
     "start_time": "2025-03-12T20:41:15.673959Z"
    }
   },
   "cell_type": "code",
   "source": [
    "from functools import lru_cache\n",
    "\n",
    "@lru_cache(maxsize=None)\n",
    "def fibonacci(n):\n",
    "    if n < 2:\n",
    "        return n\n",
    "    return fibonacci(n-1) + fibonacci(n-2)\n",
    "\n",
    "print(fibonacci(10))  # Output: 55\n"
   ],
   "id": "bda5b3e91ccfc4e9",
   "outputs": [
    {
     "name": "stdout",
     "output_type": "stream",
     "text": [
      "55\n"
     ]
    }
   ],
   "execution_count": 20
  },
  {
   "metadata": {},
   "cell_type": "markdown",
   "source": "Partial function application example using functools",
   "id": "51995339096143da"
  },
  {
   "metadata": {
    "ExecuteTime": {
     "end_time": "2025-03-12T20:41:39.069095Z",
     "start_time": "2025-03-12T20:41:39.065714Z"
    }
   },
   "cell_type": "code",
   "source": [
    "from functools import partial\n",
    "\n",
    "def power(base, exponent):\n",
    "    return base ** exponent\n",
    "\n",
    "square = partial(power, exponent=2)\n",
    "print(square(4))  # Output: 16\n"
   ],
   "id": "ab02249376b59d75",
   "outputs": [
    {
     "name": "stdout",
     "output_type": "stream",
     "text": [
      "16\n"
     ]
    }
   ],
   "execution_count": 21
  },
  {
   "metadata": {
    "ExecuteTime": {
     "end_time": "2025-03-12T20:42:00.438092Z",
     "start_time": "2025-03-12T20:42:00.435013Z"
    }
   },
   "cell_type": "code",
   "source": [
    "cube = partial(power, exponent=3)\n",
    "print(cube(3))  # Output: 27"
   ],
   "id": "f98dc8616d181349",
   "outputs": [
    {
     "name": "stdout",
     "output_type": "stream",
     "text": [
      "27\n"
     ]
    }
   ],
   "execution_count": 23
  },
  {
   "metadata": {
    "ExecuteTime": {
     "end_time": "2025-03-12T20:43:18.704568Z",
     "start_time": "2025-03-12T20:43:18.700894Z"
    }
   },
   "cell_type": "code",
   "source": [
    "from functools import wraps\n",
    "\n",
    "def decorator(func):\n",
    "    @wraps(func)\n",
    "    def wrapper(*args, **kwargs):\n",
    "        print(\"Function is called\")\n",
    "        return func(*args, **kwargs)\n",
    "    return wrapper"
   ],
   "id": "54c4a30873100ef4",
   "outputs": [],
   "execution_count": 24
  },
  {
   "metadata": {
    "ExecuteTime": {
     "end_time": "2025-03-12T20:56:10.534417Z",
     "start_time": "2025-03-12T20:56:10.530714Z"
    }
   },
   "cell_type": "code",
   "source": [
    "@decorator\n",
    "def say_hello():\n",
    "    '''This function prints Hello!'''\n",
    "    print(\"Hello!\")\n",
    "\n",
    "print(say_hello.__doc__)  # Preserves function metadata"
   ],
   "id": "2dfeaa8fe7416fd7",
   "outputs": [
    {
     "name": "stdout",
     "output_type": "stream",
     "text": [
      "This function prints Hello!\n"
     ]
    }
   ],
   "execution_count": 26
  },
  {
   "metadata": {},
   "cell_type": "markdown",
   "source": [
    "**Key Benefits of `functools`:**\n",
    "- Reduces redundant computations (`lru_cache`).\n",
    "- Enables function customization (`partial`).\n",
    "- Simplifies recursive and higher-order function handling."
   ],
   "id": "edfa7c95bf4e388c"
  },
  {
   "metadata": {},
   "cell_type": "markdown",
   "source": [
    "## Functional Programming in NumPy\n",
    "While NumPy is primarily used for numerical computing and array operations, it also supports functional programming paradigms through the use of vectorized operations, broadcasting, and aggregation functions."
   ],
   "id": "62c5b299c2cccd08"
  },
  {
   "metadata": {
    "ExecuteTime": {
     "end_time": "2025-03-12T20:56:55.055890Z",
     "start_time": "2025-03-12T20:56:55.052015Z"
    }
   },
   "cell_type": "code",
   "source": "import numpy as np",
   "id": "aac6f26355b67b84",
   "outputs": [],
   "execution_count": 27
  },
  {
   "metadata": {
    "ExecuteTime": {
     "end_time": "2025-03-12T20:56:55.879134Z",
     "start_time": "2025-03-12T20:56:55.874022Z"
    }
   },
   "cell_type": "code",
   "source": [
    "def add_ten(x):\n",
    "    return x + 10\n",
    "\n",
    "vec_add_ten = np.vectorize(add_ten)\n",
    "arr = np.array([1, 2, 3])\n",
    "print(vec_add_ten(arr))  # Output: [11 12 13]\n"
   ],
   "id": "75571e8803c2749a",
   "outputs": [
    {
     "name": "stdout",
     "output_type": "stream",
     "text": [
      "[11 12 13]\n"
     ]
    }
   ],
   "execution_count": 28
  },
  {
   "metadata": {},
   "cell_type": "markdown",
   "source": "Using numpy vectorize with broadcasting",
   "id": "4bd841047009b1e9"
  },
  {
   "metadata": {
    "ExecuteTime": {
     "end_time": "2025-03-12T20:58:18.396233Z",
     "start_time": "2025-03-12T20:58:18.388287Z"
    }
   },
   "cell_type": "code",
   "source": [
    "x = np.array([1, 2, 3])\n",
    "y = np.array([4, 5, 6])\n",
    "np.add(x, y)  # Equivalent to x + y\n",
    "# Vectorized operation using numpy and broadcasting"
   ],
   "id": "dd8b51757be2710e",
   "outputs": [
    {
     "data": {
      "text/plain": [
       "array([5, 7, 9])"
      ]
     },
     "execution_count": 29,
     "metadata": {},
     "output_type": "execute_result"
    }
   ],
   "execution_count": 29
  },
  {
   "metadata": {
    "ExecuteTime": {
     "end_time": "2025-03-12T20:58:28.786823Z",
     "start_time": "2025-03-12T20:58:28.782812Z"
    }
   },
   "cell_type": "code",
   "source": [
    "x = np.array([1, 2, 3])\n",
    "y = 10\n",
    "np.add(x, y)  # Equivalent to x + y"
   ],
   "id": "c636c4b83c2e047c",
   "outputs": [
    {
     "data": {
      "text/plain": [
       "array([11, 12, 13])"
      ]
     },
     "execution_count": 30,
     "metadata": {},
     "output_type": "execute_result"
    }
   ],
   "execution_count": 30
  },
  {
   "metadata": {},
   "cell_type": "markdown",
   "source": "Using numpy apply along axis",
   "id": "d69dfbc90fd4599f"
  },
  {
   "metadata": {
    "ExecuteTime": {
     "end_time": "2025-03-12T21:02:34.280762Z",
     "start_time": "2025-03-12T21:02:34.273418Z"
    }
   },
   "cell_type": "code",
   "source": [
    "def custom_func(x):\n",
    "    return np.sum(x)\n",
    "\n",
    "arr = np.array([[1, 2, 3], [4, 5, 6]])\n",
    "result = np.apply_along_axis(custom_func, axis=1, arr=arr)\n",
    "print(result)  # Output: [ 6 15]\n"
   ],
   "id": "b27265f1fd31f086",
   "outputs": [
    {
     "name": "stdout",
     "output_type": "stream",
     "text": [
      "[ 6 15]\n"
     ]
    }
   ],
   "execution_count": 31
  },
  {
   "metadata": {},
   "cell_type": "markdown",
   "source": [
    "## Recursion and iteration\n",
    "Recursion and iteration are two fundamental concepts in programming. Recursion is a technique where a function calls itself to solve smaller instances of the same problem, while iteration involves repeatedly executing a set of statements using loops. Both techniques have their advantages and use cases, depending on the problem being solved."
   ],
   "id": "d5c9c5eedf0b276c"
  },
  {
   "metadata": {
    "ExecuteTime": {
     "end_time": "2025-03-12T21:11:37.347808Z",
     "start_time": "2025-03-12T21:11:37.344414Z"
    }
   },
   "cell_type": "code",
   "source": [
    "def factorial(n):\n",
    "    if n == 0:\n",
    "        return 1\n",
    "    return n * factorial(n-1)\n",
    "\n",
    "print(factorial(5))  # Output: 120\n"
   ],
   "id": "168591aef93b3407",
   "outputs": [
    {
     "name": "stdout",
     "output_type": "stream",
     "text": [
      "120\n"
     ]
    }
   ],
   "execution_count": 32
  },
  {
   "metadata": {
    "ExecuteTime": {
     "end_time": "2025-03-12T21:11:56.672410Z",
     "start_time": "2025-03-12T21:11:56.668766Z"
    }
   },
   "cell_type": "code",
   "source": [
    "def factorial_iter(n):\n",
    "    result = 1\n",
    "    for i in range(1, n+1):\n",
    "        result *= i\n",
    "    return result\n",
    "print(factorial_iter(5))  # Output: 120"
   ],
   "id": "45c2e0e88b5380fa",
   "outputs": [
    {
     "name": "stdout",
     "output_type": "stream",
     "text": [
      "120\n"
     ]
    }
   ],
   "execution_count": 33
  },
  {
   "metadata": {},
   "cell_type": "markdown",
   "source": [
    "## Lazy evaluation with itertools\n",
    "Lazy evaluation is an evaluation strategy that delays the evaluation of an expression until its value is actually needed. This can help improve performance and memory usage by avoiding unnecessary computations. The `itertools` module in Python provides functions for creating iterators for efficient lazy evaluation."
   ],
   "id": "cb4160b9e8d1bb27"
  },
  {
   "metadata": {
    "ExecuteTime": {
     "end_time": "2025-03-12T21:17:39.493364Z",
     "start_time": "2025-03-12T21:17:39.489626Z"
    }
   },
   "cell_type": "code",
   "source": [
    "from itertools import count\n",
    "\n",
    "counter = count(10, 2)  # Start from 10, step by 2\n",
    "print(next(counter))  # Output: 10\n",
    "print(next(counter))  # Output: 12\n"
   ],
   "id": "2acf4a8323be1002",
   "outputs": [
    {
     "name": "stdout",
     "output_type": "stream",
     "text": [
      "10\n",
      "12\n"
     ]
    }
   ],
   "execution_count": 34
  },
  {
   "metadata": {
    "ExecuteTime": {
     "end_time": "2025-03-12T21:24:39.485430Z",
     "start_time": "2025-03-12T21:24:39.481783Z"
    }
   },
   "cell_type": "code",
   "source": [
    "from itertools import cycle\n",
    "\n",
    "colors = cycle([\"red\", \"blue\", \"green\"])\n",
    "print(next(colors))  # Output: red\n",
    "print(next(colors))  # Output: blue\n",
    "print(next(colors))  # Output: green\n",
    "print(next(colors))  # Output: red (repeats)\n"
   ],
   "id": "5ceb09b06a14f09a",
   "outputs": [
    {
     "name": "stdout",
     "output_type": "stream",
     "text": [
      "red\n",
      "blue\n",
      "green\n",
      "red\n"
     ]
    }
   ],
   "execution_count": 36
  },
  {
   "metadata": {
    "ExecuteTime": {
     "end_time": "2025-03-12T21:25:23.103823Z",
     "start_time": "2025-03-12T21:25:23.100495Z"
    }
   },
   "cell_type": "code",
   "source": [
    "from itertools import repeat\n",
    "\n",
    "for val in repeat(\"Hello\", 3):\n",
    "    print(val)  # Output: Hello (3 times)"
   ],
   "id": "165bf7c1d8d6a8de",
   "outputs": [
    {
     "name": "stdout",
     "output_type": "stream",
     "text": [
      "Hello\n",
      "Hello\n",
      "Hello\n"
     ]
    }
   ],
   "execution_count": 37
  },
  {
   "metadata": {
    "ExecuteTime": {
     "end_time": "2025-03-12T21:26:06.491675Z",
     "start_time": "2025-03-12T21:26:06.487749Z"
    }
   },
   "cell_type": "code",
   "source": [
    "from itertools import islice, count\n",
    "\n",
    "nums = islice(count(1, 1), 5)  # Take first 5 numbers\n",
    "print(list(nums))  # Output: [1, 2, 3, 4, 5]"
   ],
   "id": "605414c0db238bd3",
   "outputs": [
    {
     "name": "stdout",
     "output_type": "stream",
     "text": [
      "[1, 2, 3, 4, 5]\n"
     ]
    }
   ],
   "execution_count": 38
  },
  {
   "metadata": {
    "ExecuteTime": {
     "end_time": "2025-03-12T21:36:35.413661Z",
     "start_time": "2025-03-12T21:36:35.410075Z"
    }
   },
   "cell_type": "code",
   "source": [
    "from itertools import combinations\n",
    "\n",
    "items = ['A', 'B', 'C']\n",
    "print(list(combinations(items, 2)))\n"
   ],
   "id": "c410e538cfbe8313",
   "outputs": [
    {
     "name": "stdout",
     "output_type": "stream",
     "text": [
      "[('A', 'B'), ('A', 'C'), ('B', 'C')]\n"
     ]
    }
   ],
   "execution_count": 39
  },
  {
   "metadata": {
    "ExecuteTime": {
     "end_time": "2025-03-12T21:36:51.253369Z",
     "start_time": "2025-03-12T21:36:51.247596Z"
    }
   },
   "cell_type": "code",
   "source": [
    "# Output: [('A', 'B'), ('A', 'C'), ('B', 'C')]\n",
    "#### Using `groupby()`\n",
    "from itertools import groupby\n",
    "\n",
    "data = [('A', 1), ('A', 2), ('B', 3), ('B', 4)]\n",
    "grouped = groupby(data, key=lambda x: x[0])\n",
    "\n",
    "for key, group in grouped:\n",
    "    print(key, list(group))\n",
    "# Output: A [('A', 1), ('A', 2)]\n",
    "#         B [('B', 3), ('B', 4)]\n"
   ],
   "id": "17dd367c446c0a9b",
   "outputs": [
    {
     "name": "stdout",
     "output_type": "stream",
     "text": [
      "A [('A', 1), ('A', 2)]\n",
      "B [('B', 3), ('B', 4)]\n"
     ]
    }
   ],
   "execution_count": 40
  },
  {
   "metadata": {},
   "cell_type": "markdown",
   "source": [
    "## Functional data processing\n",
    "Functional programming concepts can be applied to data processing tasks, such as filtering, mapping, and reducing data. These concepts can help simplify code, improve readability, and enable efficient processing of large datasets."
   ],
   "id": "8d2ba8ee410f776e"
  },
  {
   "metadata": {},
   "cell_type": "markdown",
   "source": "In basic Python map, filter, and reduce are used to process data",
   "id": "e0c807eae0e391d3"
  },
  {
   "metadata": {
    "ExecuteTime": {
     "end_time": "2025-03-12T21:20:06.274523Z",
     "start_time": "2025-03-12T21:20:06.270193Z"
    }
   },
   "cell_type": "code",
   "source": [
    "nums = [1, 2, 3, 4, 5]\n",
    "doubled_evens = list(\n",
    "    map(lambda x: x * 2,\n",
    "        filter(\n",
    "            lambda x: x % 2 == 0, nums)\n",
    "        )\n",
    ")\n",
    "print(doubled_evens)  # Output: [4, 8]"
   ],
   "id": "6c0ee80b9dd8cd4b",
   "outputs": [
    {
     "name": "stdout",
     "output_type": "stream",
     "text": [
      "[4, 8]\n"
     ]
    }
   ],
   "execution_count": 35
  },
  {
   "metadata": {},
   "cell_type": "markdown",
   "source": "In NumPy, vectorized operations can be used for efficient data processing, and also list comprehension can be used for more complex operations.",
   "id": "107a22a3f2243405"
  },
  {
   "metadata": {
    "ExecuteTime": {
     "end_time": "2025-03-12T21:46:02.077121Z",
     "start_time": "2025-03-12T21:46:02.072795Z"
    }
   },
   "cell_type": "code",
   "source": [
    "nums = [1, 2, 3, 4, 5, 6]\n",
    "squared_evens = [x ** 2\n",
    "                 for x in nums if x % 2 == 0]\n",
    "print(squared_evens)  # Output: [4, 16, 36]\n"
   ],
   "id": "aed7c6b76b054603",
   "outputs": [
    {
     "name": "stdout",
     "output_type": "stream",
     "text": [
      "[4, 16, 36]\n"
     ]
    }
   ],
   "execution_count": 41
  },
  {
   "metadata": {},
   "cell_type": "markdown",
   "source": [
    "## Immutable data\n",
    "Immutable data structures are those whose values cannot be changed after they are created. In Python, strings, tuples, and frozensets are examples of immutable data types. Immutable data structures are useful for ensuring data integrity and preventing unintended modifications."
   ],
   "id": "8c9cd91247e4c9a2"
  },
  {
   "metadata": {
    "ExecuteTime": {
     "end_time": "2025-03-12T21:53:58.967507Z",
     "start_time": "2025-03-12T21:53:57.995322Z"
    }
   },
   "cell_type": "code",
   "source": [
    "my_tuple = (1, 2, 3)\n",
    "my_tuple[0] = 10  # ❌ TypeError: 'tuple' object does not support item assignment\n"
   ],
   "id": "ff0ee6f24e6d0b1b",
   "outputs": [
    {
     "ename": "TypeError",
     "evalue": "'tuple' object does not support item assignment",
     "output_type": "error",
     "traceback": [
      "\u001B[1;31m---------------------------------------------------------------------------\u001B[0m",
      "\u001B[1;31mTypeError\u001B[0m                                 Traceback (most recent call last)",
      "Cell \u001B[1;32mIn[42], line 2\u001B[0m\n\u001B[0;32m      1\u001B[0m my_tuple \u001B[38;5;241m=\u001B[39m (\u001B[38;5;241m1\u001B[39m, \u001B[38;5;241m2\u001B[39m, \u001B[38;5;241m3\u001B[39m)\n\u001B[1;32m----> 2\u001B[0m \u001B[43mmy_tuple\u001B[49m\u001B[43m[\u001B[49m\u001B[38;5;241;43m0\u001B[39;49m\u001B[43m]\u001B[49m \u001B[38;5;241m=\u001B[39m \u001B[38;5;241m10\u001B[39m  \u001B[38;5;66;03m# ❌ TypeError: 'tuple' object does not support item assignment\u001B[39;00m\n",
      "\u001B[1;31mTypeError\u001B[0m: 'tuple' object does not support item assignment"
     ]
    }
   ],
   "execution_count": 42
  },
  {
   "metadata": {},
   "cell_type": "markdown",
   "source": "Frozen sets are also immutable",
   "id": "68fcb580b3a5d622"
  },
  {
   "metadata": {
    "ExecuteTime": {
     "end_time": "2025-03-12T21:54:20.966612Z",
     "start_time": "2025-03-12T21:54:20.952048Z"
    }
   },
   "cell_type": "code",
   "source": [
    "my_set = frozenset([1, 2, 3])\n",
    "my_set.add(4)  # ❌ AttributeError: 'frozenset' object has no attribute 'add'\n"
   ],
   "id": "3e284e8dee27a3d7",
   "outputs": [
    {
     "ename": "AttributeError",
     "evalue": "'frozenset' object has no attribute 'add'",
     "output_type": "error",
     "traceback": [
      "\u001B[1;31m---------------------------------------------------------------------------\u001B[0m",
      "\u001B[1;31mAttributeError\u001B[0m                            Traceback (most recent call last)",
      "Cell \u001B[1;32mIn[44], line 2\u001B[0m\n\u001B[0;32m      1\u001B[0m my_set \u001B[38;5;241m=\u001B[39m \u001B[38;5;28mfrozenset\u001B[39m([\u001B[38;5;241m1\u001B[39m, \u001B[38;5;241m2\u001B[39m, \u001B[38;5;241m3\u001B[39m])\n\u001B[1;32m----> 2\u001B[0m \u001B[43mmy_set\u001B[49m\u001B[38;5;241;43m.\u001B[39;49m\u001B[43madd\u001B[49m(\u001B[38;5;241m4\u001B[39m)  \u001B[38;5;66;03m# ❌ AttributeError: 'frozenset' object has no attribute 'add'\u001B[39;00m\n",
      "\u001B[1;31mAttributeError\u001B[0m: 'frozenset' object has no attribute 'add'"
     ]
    }
   ],
   "execution_count": 44
  },
  {
   "metadata": {},
   "cell_type": "markdown",
   "source": [
    "### Working with immutable data\n",
    "Immutable data structures can be useful in scenarios where data integrity is important, such as when passing data between functions or modules without the risk of modification."
   ],
   "id": "d728b36884d6244b"
  },
  {
   "metadata": {
    "ExecuteTime": {
     "end_time": "2025-03-12T21:59:06.945278Z",
     "start_time": "2025-03-12T21:59:06.941542Z"
    }
   },
   "cell_type": "code",
   "source": [
    "nums = [1, 2, 3, 4]\n",
    "squared = list(map(lambda x: x ** 2, nums))\n",
    "print(squared)  # Output: [1, 4, 9, 16]\n"
   ],
   "id": "f932a734d8a5c76e",
   "outputs": [
    {
     "name": "stdout",
     "output_type": "stream",
     "text": [
      "[1, 4, 9, 16]\n"
     ]
    }
   ],
   "execution_count": 45
  },
  {
   "metadata": {},
   "cell_type": "markdown",
   "source": "Creating new dictionaries instead of modifying existing ones",
   "id": "72879ca9c9a2de9f"
  },
  {
   "metadata": {
    "ExecuteTime": {
     "end_time": "2025-03-12T21:59:30.028650Z",
     "start_time": "2025-03-12T21:59:30.025067Z"
    }
   },
   "cell_type": "code",
   "source": [
    "my_dict = {'a': 1, 'b': 2}\n",
    "new_dict = {**my_dict, 'b': 3}  # Creates a new dictionary instead of modifying\n",
    "print(new_dict)  # Output: {'a': 1, 'b': 3}\n"
   ],
   "id": "1c4712938baa6350",
   "outputs": [
    {
     "name": "stdout",
     "output_type": "stream",
     "text": [
      "{'a': 1, 'b': 3}\n"
     ]
    }
   ],
   "execution_count": 47
  },
  {
   "metadata": {},
   "cell_type": "code",
   "outputs": [],
   "execution_count": null,
   "source": "",
   "id": "89840cdcb6a7fb87"
  }
 ],
 "metadata": {
  "kernelspec": {
   "display_name": "Python 3",
   "language": "python",
   "name": "python3"
  },
  "language_info": {
   "codemirror_mode": {
    "name": "ipython",
    "version": 2
   },
   "file_extension": ".py",
   "mimetype": "text/x-python",
   "name": "python",
   "nbconvert_exporter": "python",
   "pygments_lexer": "ipython2",
   "version": "2.7.6"
  }
 },
 "nbformat": 4,
 "nbformat_minor": 5
}
